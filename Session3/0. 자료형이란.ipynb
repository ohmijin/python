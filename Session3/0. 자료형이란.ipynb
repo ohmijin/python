{
 "cells": [
  {
   "cell_type": "markdown",
   "metadata": {},
   "source": [
    "### 실습 (20180604)"
   ]
  },
  {
   "cell_type": "code",
   "execution_count": null,
   "metadata": {},
   "outputs": [],
   "source": [
    "c = 'hello world'"
   ]
  },
  {
   "cell_type": "code",
   "execution_count": null,
   "metadata": {},
   "outputs": [],
   "source": [
    "print(c)"
   ]
  },
  {
   "cell_type": "code",
   "execution_count": null,
   "metadata": {},
   "outputs": [],
   "source": [
    "a=3"
   ]
  },
  {
   "cell_type": "code",
   "execution_count": null,
   "metadata": {},
   "outputs": [],
   "source": [
    "b=5"
   ]
  },
  {
   "cell_type": "code",
   "execution_count": null,
   "metadata": {},
   "outputs": [],
   "source": [
    "print(a+b)"
   ]
  },
  {
   "cell_type": "code",
   "execution_count": null,
   "metadata": {},
   "outputs": [],
   "source": [
    "list = [1,2,3,4,5]"
   ]
  },
  {
   "cell_type": "code",
   "execution_count": null,
   "metadata": {},
   "outputs": [],
   "source": [
    "sum(list)"
   ]
  },
  {
   "cell_type": "code",
   "execution_count": null,
   "metadata": {},
   "outputs": [],
   "source": [
    "len(list)"
   ]
  },
  {
   "cell_type": "code",
   "execution_count": 4,
   "metadata": {},
   "outputs": [],
   "source": [
    "list1 = [10,20,30,40,50]\n",
    "for i in list1:\n",
    "    print(i)"
   ]
  },
  {
   "cell_type": "code",
   "execution_count": 12,
   "metadata": {},
   "outputs": [
    {
     "name": "stdout",
     "output_type": "stream",
     "text": [
      "3\n",
      "5\n"
     ]
    }
   ],
   "source": [
    "a=3\n",
    "A=5\n",
    "\n",
    "print(a)\n",
    "print(A)"
   ]
  },
  {
   "cell_type": "code",
   "execution_count": 13,
   "metadata": {},
   "outputs": [
    {
     "ename": "SyntaxError",
     "evalue": "invalid syntax (<ipython-input-13-ea85cb5e90bf>, line 1)",
     "output_type": "error",
     "traceback": [
      "\u001b[1;36m  File \u001b[1;32m\"<ipython-input-13-ea85cb5e90bf>\"\u001b[1;36m, line \u001b[1;32m1\u001b[0m\n\u001b[1;33m    3A = 2\u001b[0m\n\u001b[1;37m     ^\u001b[0m\n\u001b[1;31mSyntaxError\u001b[0m\u001b[1;31m:\u001b[0m invalid syntax\n"
     ]
    }
   ],
   "source": [
    "3A = 2\n"
   ]
  },
  {
   "cell_type": "code",
   "execution_count": 14,
   "metadata": {},
   "outputs": [
    {
     "ename": "SyntaxError",
     "evalue": "invalid syntax (<ipython-input-14-d7549b45180c>, line 1)",
     "output_type": "error",
     "traceback": [
      "\u001b[1;36m  File \u001b[1;32m\"<ipython-input-14-d7549b45180c>\"\u001b[1;36m, line \u001b[1;32m1\u001b[0m\n\u001b[1;33m    if = 3\u001b[0m\n\u001b[1;37m       ^\u001b[0m\n\u001b[1;31mSyntaxError\u001b[0m\u001b[1;31m:\u001b[0m invalid syntax\n"
     ]
    }
   ],
   "source": [
    "if = 3"
   ]
  },
  {
   "cell_type": "code",
   "execution_count": 15,
   "metadata": {},
   "outputs": [
    {
     "name": "stdout",
     "output_type": "stream",
     "text": [
      "<class 'int'>\n",
      "<class 'float'>\n"
     ]
    }
   ],
   "source": [
    "integerValue=123\n",
    "floatValue=123.456\n",
    "\n",
    "print(type(integerValue))\n",
    "print(type(floatValue))"
   ]
  },
  {
   "cell_type": "code",
   "execution_count": 41,
   "metadata": {},
   "outputs": [
    {
     "name": "stdout",
     "output_type": "stream",
     "text": [
      "246.45600000000002\n",
      "15185.088\n",
      "0.9963063763608087\n",
      "123\n",
      "0\n"
     ]
    }
   ],
   "source": [
    "#파이썬 사칙연산\n",
    "integer_value = 123\n",
    "float_value = 123.456\n",
    "\n",
    "#1. 더하기 연산\n",
    "summation = integer_value + float_value\n",
    "print(summation)\n",
    "\n",
    "#2. 곱하기 연산\n",
    "multiple = integer_value * float_value\n",
    "print(multiple)\n",
    "\n",
    "#3. 나누기 연산\n",
    "division =  integer_value / float_value\n",
    "print(division)\n",
    "\n",
    "#4. 제곱 연산\n",
    "integer_value2 = int(float_value)\n",
    "exponential = integer_value2**2\n",
    "print(integer_value2)\n",
    "\n",
    "#5. 나머지 연산\n",
    "mod = integer_value%int(float_value)\n",
    "print(mod)"
   ]
  },
  {
   "cell_type": "code",
   "execution_count": 42,
   "metadata": {},
   "outputs": [
    {
     "data": {
      "text/plain": [
       "0.6666666666666666"
      ]
     },
     "execution_count": 42,
     "metadata": {},
     "output_type": "execute_result"
    }
   ],
   "source": [
    "a=2/3\n",
    "a\n",
    "# 파이썬 3버전은 자동으로 int가 나눗셈을 할 때 소수점으로 계산\n",
    "# 유니코드가 아닌 utf-8"
   ]
  },
  {
   "cell_type": "code",
   "execution_count": 43,
   "metadata": {},
   "outputs": [
    {
     "name": "stdout",
     "output_type": "stream",
     "text": [
      "This is 'String' value\n",
      "This is \"String\" value\n",
      "This is 'String' value\n"
     ]
    }
   ],
   "source": [
    "aType = \"This is 'String' value\"\n",
    "bType = 'This is \"String\" value'\n",
    "cType = \"\"\"This is 'String' value\"\"\"\n",
    "\n",
    "print(aType)\n",
    "print(bType)\n",
    "print(cType)"
   ]
  },
  {
   "cell_type": "code",
   "execution_count": 44,
   "metadata": {},
   "outputs": [
    {
     "name": "stdout",
     "output_type": "stream",
     "text": [
      "polytecn student\n",
      "******************** 문자열 연산 프로그램 ********************\n",
      "2\n",
      "2018\n",
      "01\n"
     ]
    }
   ],
   "source": [
    "#문자열 더하기\n",
    "head = \"polytecn\"\n",
    "tail = \"student\"\n",
    "fullString = head + \" \" + tail\n",
    "print(fullString)\n",
    "\n",
    "#문자열 곱하기\n",
    "print(\"*\"*20 + \" 문자열 연산 프로그램 \"+ \"*\"*20)\n",
    "\n",
    "#문자열 인덱싱 0부터 시작\n",
    "yearweek = \"201801\"\n",
    "print(yearweek[0]) #첫번째 문자열\n",
    "print(yearweek[0:4]) #0~4번째 전 문자열\n",
    "print(yearweek[4:]) #4번째부터 끝까지"
   ]
  },
  {
   "cell_type": "code",
   "execution_count": 45,
   "metadata": {},
   "outputs": [
    {
     "name": "stdout",
     "output_type": "stream",
     "text": [
      "2017W28\n",
      "4\n",
      "['201728']\n",
      "['2017', '28']\n"
     ]
    }
   ],
   "source": [
    "#문자열 개수 세기\n",
    "yearweek=\"2017W28\"\n",
    "print(yearweek)\n",
    "\n",
    "#문자열 위치 확인\n",
    "print(yearweek.index('W'))\n",
    "delimeter = yearweek.index('W')\n",
    "yearweek_new=yearweek[:delimeter]+yearweek[delimeter+1:]\n",
    "print([yearweek_new])\n",
    "\n",
    "#이외 upper,lower,replace\n",
    "\n",
    "#split 함수\n",
    "yearweek_list = yearweek.split('W')\n",
    "print(yearweek_list )"
   ]
  },
  {
   "cell_type": "code",
   "execution_count": 46,
   "metadata": {},
   "outputs": [
    {
     "name": "stdout",
     "output_type": "stream",
     "text": [
      "SEC\n",
      "201828\n",
      "250\n"
     ]
    }
   ],
   "source": [
    "productInfo = \"Sec 2018W28 250\"\n",
    "product1=productInfo.upper().split(\" \")\n",
    "\n",
    "stock_name = product1[0]\n",
    "date = product1[1].replace(\"W\",\"\")\n",
    "value =product1[2]\n",
    "\n",
    "print(stock_name)\n",
    "print(date)\n",
    "print(value)\n",
    "\n",
    "# delimeter = productInfo.index('W')\n",
    "\n",
    "# productInfo_new = productInfo[delimeter+1:delimeter+3]\n",
    "# print(productInfo_new)\n",
    "\n",
    "# product1 = productInfo[:delimeter] + productInfo[delimeter+1:]\n",
    "# print(product1)\n",
    "\n",
    "# product1_list=product1.upper()\n",
    "# print(product1_list)\n",
    "\n",
    "\n",
    "\n"
   ]
  },
  {
   "cell_type": "code",
   "execution_count": 47,
   "metadata": {},
   "outputs": [
    {
     "name": "stdout",
     "output_type": "stream",
     "text": [
      "['SEC', 120, 130, [201712, 201713]]\n",
      "120\n",
      "[201712, 201713]\n",
      "201712\n",
      "['SEC', 120, 130]\n"
     ]
    }
   ],
   "source": [
    "#리스트 연산\n",
    "stockName = [\"SEC\"]\n",
    "priceList = [120,130]\n",
    "dateList = [201712,201713]\n",
    "\n",
    "secinfo = stockName+priceList+[dateList]\n",
    "print(secinfo)\n",
    "\n",
    "#리스트 인덱싱\n",
    "#secinfo = [\"SEC\",120,130,[201712,201713]]\n",
    "print(secinfo[1])\n",
    "print(secinfo[3])\n",
    "print(secinfo[3][0])\n",
    "print(secinfo[0:3])\n"
   ]
  },
  {
   "cell_type": "code",
   "execution_count": 2,
   "metadata": {},
   "outputs": [
    {
     "name": "stdout",
     "output_type": "stream",
     "text": [
      "[120, 150, 300, 500, 1000, 100, 2000]\n",
      "[120, 150, 300, 500, 1000]\n",
      "2070\n",
      "414.0\n"
     ]
    }
   ],
   "source": [
    "calculateList = [120,150,300,500,1000,100,2000]\n",
    "print(calculateList)\n",
    "\n",
    "\n",
    "# minList=calculateList.index(min(calculateList))\n",
    "# maxList=calculateList.index(max(calculateList))\n",
    "# print(minList)\n",
    "# print(maxList)\n",
    "# del calculateList[minList]\n",
    "# print(calculateList)\n",
    "# del calculateList[maxList]\n",
    "# print(calculateList)\n",
    "#del calculateList[calculateList[min(calculateList).index]]\n",
    "\n",
    "\n",
    "maxValue= max(calculateList)\n",
    "minValue= min(calculateList)\n",
    "\n",
    "calculateList.pop(calculateList.index(minValue))\n",
    "calculateList.pop(calculateList.index(maxValue))\n",
    "print(calculateList)\n",
    "print(sum(calculateList))\n",
    "print(sum(calculateList)/len(calculateList))\n"
   ]
  },
  {
   "cell_type": "markdown",
   "metadata": {},
   "source": [
    "### dictionary"
   ]
  },
  {
   "cell_type": "code",
   "execution_count": 9,
   "metadata": {},
   "outputs": [
    {
     "data": {
      "text/plain": [
       "{'address': 'seoul', 'name': 'omj', 'value': 20180604}"
      ]
     },
     "execution_count": 9,
     "metadata": {},
     "output_type": "execute_result"
    }
   ],
   "source": [
    "d = dict(name='omj', value= 20180604, address=\"seoul\")\n",
    "d"
   ]
  },
  {
   "cell_type": "code",
   "execution_count": 10,
   "metadata": {},
   "outputs": [
    {
     "data": {
      "text/plain": [
       "dict_keys(['name', 'value', 'address'])"
      ]
     },
     "execution_count": 10,
     "metadata": {},
     "output_type": "execute_result"
    }
   ],
   "source": [
    "d.keys()"
   ]
  },
  {
   "cell_type": "code",
   "execution_count": 11,
   "metadata": {},
   "outputs": [
    {
     "data": {
      "text/plain": [
       "dict_values(['omj', 20180604, 'seoul'])"
      ]
     },
     "execution_count": 11,
     "metadata": {},
     "output_type": "execute_result"
    }
   ],
   "source": [
    "d.values()"
   ]
  },
  {
   "cell_type": "code",
   "execution_count": 12,
   "metadata": {},
   "outputs": [
    {
     "data": {
      "text/plain": [
       "dict_items([('name', 'omj'), ('value', 20180604), ('address', 'seoul')])"
      ]
     },
     "execution_count": 12,
     "metadata": {},
     "output_type": "execute_result"
    }
   ],
   "source": [
    "d.items()"
   ]
  },
  {
   "cell_type": "markdown",
   "metadata": {},
   "source": [
    "#딕셔너리 \n",
    "dic = {\"name\":\"sec\",\"id\":\"300000\",\"address\":\"soowon\"}\n",
    "print(dic)\n",
    "print(dic['name'])\n",
    "\n",
    "#dictionary key value 추가/변경\n",
    "dic[\"name\"]= \"sec2\"\n",
    "dic[\"stock\"]= \"yes\"\n",
    "print(dic)\n",
    "print(dic['stock'])\n",
    "\n",
    "#dictionary 요소 삭제하기\n",
    "del dic[\"id\"]\n",
    "print(dic)\n",
    "\n",
    "del dic[\"stock\"]\n",
    "print(dic)\n",
    "\n",
    "for k,v in dic.items():\n",
    "    print(k,v);\n",
    "\n"
   ]
  },
  {
   "cell_type": "code",
   "execution_count": null,
   "metadata": {},
   "outputs": [],
   "source": []
  }
 ],
 "metadata": {
  "kernelspec": {
   "display_name": "Python 3",
   "language": "python",
   "name": "python3"
  },
  "language_info": {
   "codemirror_mode": {
    "name": "ipython",
    "version": 3
   },
   "file_extension": ".py",
   "mimetype": "text/x-python",
   "name": "python",
   "nbconvert_exporter": "python",
   "pygments_lexer": "ipython3",
   "version": "3.6.4"
  }
 },
 "nbformat": 4,
 "nbformat_minor": 2
}
