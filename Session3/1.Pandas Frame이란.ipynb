{
 "cells": [
  {
   "cell_type": "markdown",
   "metadata": {},
   "source": [
    "### 1. 데이터 프레임 - 딕셔너리"
   ]
  },
  {
   "cell_type": "code",
   "execution_count": 2,
   "metadata": {},
   "outputs": [],
   "source": [
    "#데이터 프레임 라이브러리 활용\n",
    "import pandas as pd"
   ]
  },
  {
   "cell_type": "code",
   "execution_count": 3,
   "metadata": {},
   "outputs": [],
   "source": [
    "#딕셔너리를 활용한 데이터 프레임 생성\n",
    "data = { 'name':['A고객','B고객','C고객','D고객'], 'age':[27,40,33,29],\n",
    "        'stock_age':[2,10,5,1]   \n",
    "}\n",
    "dataFrame= pd.DataFrame(data)\n"
   ]
  },
  {
   "cell_type": "code",
   "execution_count": 4,
   "metadata": {},
   "outputs": [
    {
     "name": "stdout",
     "output_type": "stream",
     "text": [
      "<class 'pandas.core.frame.DataFrame'>\n",
      "   age name  stock_age\n",
      "0   27  A고객          2\n",
      "1   40  B고객         10\n",
      "2   33  C고객          5\n",
      "3   29  D고객          1\n"
     ]
    }
   ],
   "source": [
    "# 데이터 프레임: 스프레드시트 형태의 자료구조\n",
    "print(type(dataFrame))\n",
    "print(dataFrame)"
   ]
  },
  {
   "cell_type": "code",
   "execution_count": 9,
   "metadata": {},
   "outputs": [
    {
     "data": {
      "text/html": [
       "<div>\n",
       "<style scoped>\n",
       "    .dataframe tbody tr th:only-of-type {\n",
       "        vertical-align: middle;\n",
       "    }\n",
       "\n",
       "    .dataframe tbody tr th {\n",
       "        vertical-align: top;\n",
       "    }\n",
       "\n",
       "    .dataframe thead th {\n",
       "        text-align: right;\n",
       "    }\n",
       "</style>\n",
       "<table border=\"1\" class=\"dataframe\">\n",
       "  <thead>\n",
       "    <tr style=\"text-align: right;\">\n",
       "      <th></th>\n",
       "      <th>name</th>\n",
       "      <th>stock_age</th>\n",
       "    </tr>\n",
       "  </thead>\n",
       "  <tbody>\n",
       "    <tr>\n",
       "      <th>0</th>\n",
       "      <td>A고객</td>\n",
       "      <td>2</td>\n",
       "    </tr>\n",
       "    <tr>\n",
       "      <th>1</th>\n",
       "      <td>B고객</td>\n",
       "      <td>10</td>\n",
       "    </tr>\n",
       "    <tr>\n",
       "      <th>2</th>\n",
       "      <td>C고객</td>\n",
       "      <td>5</td>\n",
       "    </tr>\n",
       "    <tr>\n",
       "      <th>3</th>\n",
       "      <td>D고객</td>\n",
       "      <td>1</td>\n",
       "    </tr>\n",
       "  </tbody>\n",
       "</table>\n",
       "</div>"
      ],
      "text/plain": [
       "  name  stock_age\n",
       "0  A고객          2\n",
       "1  B고객         10\n",
       "2  C고객          5\n",
       "3  D고객          1"
      ]
     },
     "execution_count": 9,
     "metadata": {},
     "output_type": "execute_result"
    }
   ],
   "source": [
    "dataFrame[[\"name\",\"stock_age\"]]"
   ]
  },
  {
   "cell_type": "markdown",
   "metadata": {},
   "source": [
    "### 2. 데이터 프레임- 리스트"
   ]
  },
  {
   "cell_type": "code",
   "execution_count": 6,
   "metadata": {},
   "outputs": [
    {
     "name": "stdout",
     "output_type": "stream",
     "text": [
      "       0\n",
      "0     10\n",
      "1    100\n",
      "2   1000\n",
      "3  10000\n",
      "---------------------\n",
      "    test\n",
      "0     10\n",
      "1    100\n",
      "2   1000\n",
      "3  10000\n"
     ]
    }
   ],
   "source": [
    "#리스트 생성\n",
    "test = [10,100,1000,10000]\n",
    "#데이터 프레임 변환\n",
    "testDf = pd.DataFrame(test)\n",
    "print(testDf)\n",
    "print(\"---------------------\")\n",
    "testDf.columns=[\"test\"]\n",
    "print(testDf)"
   ]
  },
  {
   "cell_type": "markdown",
   "metadata": {},
   "source": [
    "### 3. 리스트를 활용한 데이터프레임 응용"
   ]
  },
  {
   "cell_type": "code",
   "execution_count": 10,
   "metadata": {},
   "outputs": [
    {
     "name": "stdout",
     "output_type": "stream",
     "text": [
      "      date1     date2\n",
      "0  16.02.29  17.02.29\n",
      "1  16.02.26  17.02.26\n",
      "2  16.02.25  17.02.25\n",
      "3  16.02.24  17.02.24\n",
      "4  16.02.23  17.02.23\n",
      "----------------------\n",
      "      date1     date2\n",
      "0       NaN  17.02.29\n",
      "1       NaN  17.02.26\n",
      "2       NaN  17.02.25\n",
      "3       NaN  17.02.24\n",
      "4       NaN  17.02.23\n",
      "0  16.02.29       NaN\n",
      "1  16.02.26       NaN\n",
      "2  16.02.25       NaN\n",
      "3  16.02.24       NaN\n",
      "4  16.02.23       NaN\n"
     ]
    }
   ],
   "source": [
    "date = ['16.02.29', '16.02.26','16.02.25','16.02.24','16.02.23']\n",
    "date2 = ['17.02.29', '17.02.26','17.02.25', '17.02.24', '17.02.23']\n",
    "\n",
    "date_df = pd.DataFrame(date, columns=['date1'])\n",
    "date_df2 = pd.DataFrame(date2, columns=['date2'])\n",
    "\n",
    "final = pd.concat([date_df,date_df2],axis=1)\n",
    "print(final)\n",
    "print('----------------------')\n",
    "final2 = pd.concat([date_df2,date_df],axis=0)\n",
    "print(final2)"
   ]
  },
  {
   "cell_type": "code",
   "execution_count": null,
   "metadata": {},
   "outputs": [],
   "source": []
  }
 ],
 "metadata": {
  "kernelspec": {
   "display_name": "Python 3",
   "language": "python",
   "name": "python3"
  },
  "language_info": {
   "codemirror_mode": {
    "name": "ipython",
    "version": 3
   },
   "file_extension": ".py",
   "mimetype": "text/x-python",
   "name": "python",
   "nbconvert_exporter": "python",
   "pygments_lexer": "ipython3",
   "version": "3.6.4"
  }
 },
 "nbformat": 4,
 "nbformat_minor": 2
}
